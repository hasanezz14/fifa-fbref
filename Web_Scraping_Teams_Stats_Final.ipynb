{
 "cells": [
  {
   "cell_type": "code",
   "execution_count": 12,
   "id": "6a0580e7",
   "metadata": {},
   "outputs": [],
   "source": [
    "from bs4 import BeautifulSoup\n",
    "import requests\n",
    "import pandas as pd\n",
    "from selenium import webdriver\n",
    "import time"
   ]
  },
  {
   "cell_type": "code",
   "execution_count": 13,
   "id": "647ad067",
   "metadata": {},
   "outputs": [],
   "source": [
    "leagues = ['8','0','2','9','32']\n",
    "league_names = ['France','England','Italy','Spain','Germany']"
   ]
  },
  {
   "cell_type": "code",
   "execution_count": 14,
   "id": "599cfff1",
   "metadata": {},
   "outputs": [],
   "source": [
    "url_start = 'https://www.soccerassociation.com/{}/index.htm'"
   ]
  },
  {
   "cell_type": "code",
   "execution_count": 15,
   "id": "2360b8ec",
   "metadata": {},
   "outputs": [],
   "source": [
    "IdsFr = ['614','1530','57','378','1815','64','65','217','66','219','69','70','71','72','73','379','74','76','1809','294']\n",
    "ids_eng = ['1','2','1943','1925','1808','5','1799','7','144','8','95','9','10','11','13','14','17','18','19','110']\n",
    "Ids_It = ['39','189','111434','1746','110374','44','45','46','347','47','111811','48','52','110373','1837','111974','110741','54','55','206']\n",
    "Ids_Sp = ['1861','448','240','241','450','1968','468','452','1860','110062','453','479','480','449','243','457','481','461','462','483']\n",
    "IdsGr = ['31','1831','32','21','22','23','1824','100409','34','169','166','112172','25','38','10029','36','160','175']\n",
    "Ids_ = [IdsFr,ids_eng,Ids_It,Ids_Sp,IdsGr]\n",
    "#We created lists for team Ids we got from fifa23 dataset"
   ]
  },
  {
   "cell_type": "code",
   "execution_count": 16,
   "id": "b66cdd48",
   "metadata": {},
   "outputs": [],
   "source": [
    "for league in leagues:\n",
    "    url = url_start.format(league)\n",
    "    data = requests.get(url)\n",
    "    with open(\"C:/Users/hp/Desktop/fifa _project/{}.html\".format(league), \"w+\", encoding=\"utf-8\") as f:\n",
    "        f.write(data.text)\n",
    "# downloaded a page containing the current league standing for every league"
   ]
  },
  {
   "cell_type": "code",
   "execution_count": 17,
   "id": "4a32a7c1",
   "metadata": {},
   "outputs": [],
   "source": [
    "k=0\n",
    "for i in leagues:\n",
    "    with open(\"C:/Users/hp/Desktop/fifa _project/{}.html\".format(i)) as f:\n",
    "         page = f.read()\n",
    "    soup = BeautifulSoup(page, 'html.parser')\n",
    "    table = soup.find('table', class_=\"flL qtb b\")\n",
    "    table_df = pd.read_html(str(table))[0]\n",
    "    table_df.columns = ['nan1','Rank','nan2','Club_Name','Points']\n",
    "    table_df = table_df.sort_values(['Club_Name'])\n",
    "    table_df['Club_ID'] = Ids_[k]\n",
    "    table_df.to_csv('{}.csv'.format(league_names[k]))\n",
    "    k+=1\n",
    "#looking just for the the table containing the league standing and saving it into a csv file after doing some cleaning "
   ]
  },
  {
   "cell_type": "code",
   "execution_count": 18,
   "id": "b35eea4f",
   "metadata": {},
   "outputs": [
    {
     "name": "stderr",
     "output_type": "stream",
     "text": [
      "<ipython-input-18-6bf4485c8ffb>:1: DeprecationWarning: executable_path has been deprecated, please pass in a Service object\n",
      "  driver = webdriver.Chrome(executable_path = \"C:/Users/hp/Desktop/fifa _project/chromedriver\")\n"
     ]
    }
   ],
   "source": [
    "driver = webdriver.Chrome(executable_path = \"C:/Users/hp/Desktop/fifa _project/chromedriver\")"
   ]
  },
  {
   "cell_type": "code",
   "execution_count": 26,
   "id": "14b6511c",
   "metadata": {},
   "outputs": [],
   "source": [
    "IdsFr = ['614','1530','57','378','1815','64','65','217','66','219','69','70','71','72','73','379','74','--','76','1809','294']\n",
    "ids_eng = ['1','2','1943','1925','1808','5','1799','7','144','8','95','9','10','11','13','14','17','00','18','19','110']\n",
    "Ids_It = ['39','189','111434','1746','110374','206','44','45','46','347','47','111811','48','52','110373','1837','111974','110741','--','54','55']\n",
    "Ids_Sp = ['1861','448','240','241','449','450','1968','468','452','1860','110062','453','479','480','243','457','481','--','461','462','483']\n",
    "IdsGr = ['100409','21','160','22','1824','25','166','10029','31','32','23','169','112172','34','---','36','1831','38','175']\n",
    "Ids_ = [IdsFr,ids_eng,Ids_It,Ids_Sp,IdsGr]\n",
    "leagues = ['20','9','12','11','13']\n",
    "league_names = ['Bundesliga-Stats','Premier-League-Stats','La-Liga-Stats','Serie-A-Stats','Ligue-1-Stats']\n",
    "Ids_ = [IdsGr,ids_eng,Ids_Sp,Ids_It,IdsFr]\n",
    "position = ['keepers','shooting','passing','gca','defense']\n",
    "#reordering ids as needed "
   ]
  },
  {
   "cell_type": "code",
   "execution_count": 20,
   "id": "6aa4eb87",
   "metadata": {},
   "outputs": [],
   "source": [
    "url1 = 'https://fbref.com/en/comps/{}/playingtime/{}'"
   ]
  },
  {
   "cell_type": "code",
   "execution_count": 21,
   "id": "3ac24187",
   "metadata": {},
   "outputs": [],
   "source": [
    "for leagueid,league in zip(leagues,league_names):\n",
    "    urll = url1.format(leagueid,league)\n",
    "    driver.get(urll)\n",
    "    driver.execute_script(\"window.scrollTo(1,10000)\")\n",
    "    time.sleep(2)\n",
    "    \n",
    "    with open(\"C:/Users/hp/Desktop/fifa _project/{}.html\".format(league), \"w+\",encoding=\"utf-8\") as f:\n",
    "        f.write(driver.page_source)\n",
    "#downloading a page containing a table for playing times for each player"
   ]
  },
  {
   "cell_type": "code",
   "execution_count": 22,
   "id": "4d0556c0",
   "metadata": {},
   "outputs": [],
   "source": [
    "z = 0\n",
    "for i in leagues:\n",
    "        with open(\"C:/Users/hp/Desktop/fifa _project/{}.html\".format(league_names[z]),encoding=\"utf-8\") as f:\n",
    "            page = f.read()\n",
    "        soup = BeautifulSoup(page, 'html.parser')\n",
    "        players = soup.find(id=\"stats_playing_time\")\n",
    "        player_df = pd.read_html(str(players))[0]\n",
    "        player_df.columns = range(0,30)\n",
    "        player_df = player_df.sort_values(4, axis = 0)\n",
    "        player_df = player_df.iloc[:,0:10]\n",
    "        player_df.columns= ['x','Player_name','Nationality','Pos','Team','xx','xxx','Matches','MP','yy']\n",
    "        player_df.index = range(1,len(player_df.index)+1)\n",
    "        teams = player_df['Team'].unique()\n",
    "        teams = teams.tolist()\n",
    "        new_list = []\n",
    "        for l in (player_df['Team']):\n",
    "            for j in teams:\n",
    "                if l == j:\n",
    "                    k= teams.index(j)\n",
    "                    new_list.append(Ids_[z][k])\n",
    "        player_df['teamid'] = new_list\n",
    "        player_df.to_csv(\"{}.csv\".format(league_names[z]))\n",
    "        z+=1\n",
    "#looking for the playing time table and applying some cleaning and formating before saving the table into csv file"
   ]
  },
  {
   "cell_type": "code",
   "execution_count": 23,
   "id": "95e8f15a",
   "metadata": {},
   "outputs": [],
   "source": [
    "url1 = 'https://fbref.com/en/comps/{}/{}/{}'"
   ]
  },
  {
   "cell_type": "code",
   "execution_count": 24,
   "id": "d1b8b1a9",
   "metadata": {},
   "outputs": [
    {
     "name": "stderr",
     "output_type": "stream",
     "text": [
      "<ipython-input-24-6bf4485c8ffb>:1: DeprecationWarning: executable_path has been deprecated, please pass in a Service object\n",
      "  driver = webdriver.Chrome(executable_path = \"C:/Users/hp/Desktop/fifa _project/chromedriver\")\n"
     ]
    }
   ],
   "source": [
    "driver = webdriver.Chrome(executable_path = \"C:/Users/hp/Desktop/fifa _project/chromedriver\")"
   ]
  },
  {
   "cell_type": "code",
   "execution_count": 27,
   "id": "b25c9370",
   "metadata": {},
   "outputs": [],
   "source": [
    "for leagueid,pos,league in zip(leagues,league_names,position):\n",
    "    urll = url1.format(leagueid,pos,league)\n",
    "    driver.get(urll)\n",
    "    driver.execute_script(\"window.scrollTo(1,10000)\")\n",
    "    time.sleep(2)\n",
    "    \n",
    "    with open(\"C:/Users/hp/Desktop/fifa _project/{}_{}.html\".format(league,pos), \"w+\",encoding=\"utf-8\") as f:\n",
    "        f.write(driver.page_source)\n",
    "#downloading a page containing statistics for skills of each position for each player"
   ]
  },
  {
   "cell_type": "code",
   "execution_count": 28,
   "id": "3e8022f4",
   "metadata": {
    "scrolled": true
   },
   "outputs": [],
   "source": [
    "n=0\n",
    "for league in league_names:\n",
    "        with open(\"C:/Users/hp/Desktop/fifa _project/{}_keepers.html\".format(league),encoding=\"utf-8\") as f:\n",
    "            page = f.read()\n",
    "        soup = BeautifulSoup(page, 'html.parser')\n",
    "        players = soup.find(id=\"stats_keeper\")\n",
    "        player_df = pd.read_html(str(players))[0]\n",
    "        player_df.columns = range(0,27)\n",
    "        player_df = player_df.sort_values(4, axis = 0)\n",
    "        player_df = player_df.iloc[:,0:20]\n",
    "        player_df.columns= ['x','Player_name','Nationality','Position','Team','x1','x2','Matches','x3','MP','x4','Goals Against','x9','x10','Saves','x5','x6','x7','x8','Clean Sheet']\n",
    "        player_df.index = range(1,len(player_df.index)+1)\n",
    "        teams = player_df['Team'].unique()\n",
    "        teams = teams.tolist()\n",
    "        new_list = []\n",
    "        for i in (player_df['Team']):\n",
    "            for j in teams:\n",
    "                if i == j:\n",
    "                    k= teams.index(j)\n",
    "                    new_list.append(Ids_[n][k])\n",
    "        player_df['teamid'] = new_list\n",
    "        player_df.to_csv(\"{}-Keepers.csv\".format(league))\n",
    "        n+=1\n",
    "#looking for the desired statistic table and applying some cleaning and formating before saving the table into csv file"
   ]
  },
  {
   "cell_type": "code",
   "execution_count": 29,
   "id": "6788f1db",
   "metadata": {},
   "outputs": [],
   "source": [
    "n=0\n",
    "for league in league_names:\n",
    "        with open(\"C:/Users/hp/Desktop/fifa _project/{}_Shooting.html\".format(league),encoding=\"utf-8\") as f:\n",
    "            page = f.read()\n",
    "\n",
    "        soup = BeautifulSoup(page, 'html.parser')\n",
    "        players = soup.find(id=\"stats_shooting\")\n",
    "        player_df = pd.read_html(str(players))[0]\n",
    "        player_df.columns = range(0,26)\n",
    "        player_df = player_df.sort_values(4, axis = 0)\n",
    "        player_df = player_df.iloc[:,0:11]\n",
    "        player_df.columns= ['x','Player_name','Nationality','Position','Team','x1','x2','x3','Goals','Shots','Shots OnTarget']\n",
    "        player_df.index = range(1,len(player_df.index)+1)\n",
    "        teams = player_df['Team'].unique()\n",
    "        teams = teams.tolist()\n",
    "        new_list = []\n",
    "        for i in (player_df['Team']):\n",
    "            for j in teams:\n",
    "                if i == j:\n",
    "                    k= teams.index(j)\n",
    "                    new_list.append(Ids_[n][k])\n",
    "        player_df['teamid'] = new_list\n",
    "        player_df.to_csv(\"{}-Shooting.csv\".format(league))\n",
    "        n+=1\n",
    "#looking for the desired statistic table and applying some cleaning and formating before saving the table into csv file"
   ]
  },
  {
   "cell_type": "code",
   "execution_count": 30,
   "id": "57a616c6",
   "metadata": {},
   "outputs": [],
   "source": [
    "n=0\n",
    "for league in league_names:\n",
    "        with open(\"C:/Users/hp/Desktop/fifa _project/{}_Passing.html\".format(league),encoding=\"utf-8\") as f:\n",
    "            page = f.read()\n",
    "\n",
    "        soup = BeautifulSoup(page, 'html.parser')\n",
    "        players = soup.find(id=\"stats_passing\")\n",
    "        player_df = pd.read_html(str(players))[0]\n",
    "        player_df.columns = range(0,32)\n",
    "        player_df = player_df.sort_values(4, axis = 0)\n",
    "        player_df = player_df.iloc[:,0:11]\n",
    "        player_df.columns= ['x','Player_name','Nationality','Position','Team','x1','x2','x3','Passes Completed','x4','x5']\n",
    "        player_df.index = range(1,len(player_df.index)+1)\n",
    "        teams = player_df['Team'].unique()\n",
    "        teams = teams.tolist()\n",
    "        new_list = []\n",
    "        for i in (player_df['Team']):\n",
    "            for j in teams:\n",
    "                if i == j:\n",
    "                    k= teams.index(j)\n",
    "                    new_list.append(Ids_[n][k])\n",
    "        player_df['teamid'] = new_list\n",
    "        player_df.to_csv(\"{}-Passing.csv\".format(league))\n",
    "        n+=1\n",
    "#looking for the desired statistic table and applying some cleaning and formating before saving the table into csv file"
   ]
  },
  {
   "cell_type": "code",
   "execution_count": 31,
   "id": "f66e5377",
   "metadata": {},
   "outputs": [],
   "source": [
    "n=0\n",
    "for league in league_names:\n",
    "        with open(\"C:/Users/hp/Desktop/fifa _project/{}_Gca.html\".format(league),encoding=\"utf-8\") as f:\n",
    "            page = f.read()\n",
    "\n",
    "        soup = BeautifulSoup(page, 'html.parser')\n",
    "        players = soup.find(id=\"stats_gca\")\n",
    "        player_df = pd.read_html(str(players))[0]\n",
    "        player_df.columns = range(0,25)\n",
    "        player_df = player_df.sort_values(4, axis = 0)\n",
    "        player_df = player_df.iloc[:,0:17]\n",
    "        player_df.columns= ['x','Player_name','Nationality','Position','Team','x1','x2','x3','Shot Creation Action','x5','x6','x7','x8','x9','x10','x11','Goal Creation Action']\n",
    "        player_df.index = range(1,len(player_df.index)+1)\n",
    "        teams = player_df['Team'].unique()\n",
    "        teams = teams.tolist()\n",
    "        new_list = []\n",
    "        for i in (player_df['Team']):\n",
    "            for j in teams:\n",
    "                if i == j:\n",
    "                    k= teams.index(j)\n",
    "                    new_list.append(Ids_[n][k])\n",
    "        player_df['teamid'] = new_list\n",
    "        player_df.to_csv(\"{}-Gca.csv\".format(league))\n",
    "        n+=1\n",
    "#looking for the desired statistic table and applying some cleaning and formating before saving the table into csv file"
   ]
  },
  {
   "cell_type": "code",
   "execution_count": 32,
   "id": "3dfcd500",
   "metadata": {},
   "outputs": [],
   "source": [
    "n=0\n",
    "for league in league_names:\n",
    "        with open(\"C:/Users/hp/Desktop/fifa _project/{}_defense.html\".format(league),encoding=\"utf-8\") as f:\n",
    "            page = f.read()\n",
    "\n",
    "        soup = BeautifulSoup(page, 'html.parser')\n",
    "        players = soup.find(id=\"stats_defense\")\n",
    "        player_df = pd.read_html(str(players))[0]\n",
    "        player_df.columns = range(0,25)\n",
    "        player_df = player_df.sort_values(4, axis = 0)\n",
    "        player_df = player_df.iloc[:,0:23]\n",
    "        player_df.columns= ['x','Player_name','Nationality','Position','Team','x1','x2','x3','x4','Tackles Won','x6','x7','x8','x9','x10','x11','x13','Balls Blocked','x14','x15','Interceptions','x16','Ball Clearences']\n",
    "        player_df.index = range(1,len(player_df.index)+1)\n",
    "        teams = player_df['Team'].unique()\n",
    "        teams = teams.tolist()\n",
    "        new_list = []\n",
    "        for i in (player_df['Team']):\n",
    "            for j in teams:\n",
    "                if i == j:\n",
    "                    k= teams.index(j)\n",
    "                    new_list.append(Ids_[n][k])\n",
    "        player_df['teamid'] = new_list\n",
    "        player_df.to_csv(\"{}-defense.csv\".format(league))\n",
    "        n+=1\n",
    "#looking for the desired statistic table and applying some cleaning and formating before saving the table into csv file"
   ]
  }
 ],
 "metadata": {
  "kernelspec": {
   "display_name": "Python 3",
   "language": "python",
   "name": "python3"
  },
  "language_info": {
   "codemirror_mode": {
    "name": "ipython",
    "version": 3
   },
   "file_extension": ".py",
   "mimetype": "text/x-python",
   "name": "python",
   "nbconvert_exporter": "python",
   "pygments_lexer": "ipython3",
   "version": "3.8.8"
  }
 },
 "nbformat": 4,
 "nbformat_minor": 5
}
